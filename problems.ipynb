{
 "cells": [
  {
   "cell_type": "markdown",
   "metadata": {},
   "source": [
    "# for 100"
   ]
  },
  {
   "cell_type": "code",
   "execution_count": 13,
   "metadata": {},
   "outputs": [
    {
     "name": "stdout",
     "output_type": "stream",
     "text": [
      "12+3+4+5-6-7+89\n",
      "1+23-4+5+6+78-9\n",
      "1+2+34-5+67-8+9\n",
      "12+3+4+5-6-7+89\n",
      "12-3-4+5-6+7+89\n",
      "12-3-4+5-6+7+89\n",
      "123+45-67+8-9\n",
      "12+3+4+5-6-7+89\n",
      "123-4-5-6-7+8-9\n",
      "12+3+4+5-6-7+89\n",
      "12+3-4+5+67+8+9\n",
      "123-45-67+89\n",
      "1+2+3-4+5+6+78+9\n",
      "1+2+34-5+67-8+9\n",
      "12-3-4+5-6+7+89\n",
      "1+23-4+5+6+78-9\n"
     ]
    }
   ],
   "source": [
    "\n",
    "\n",
    "pool = ['+','-','']\n",
    "import random\n",
    "for _ in range(10000):\n",
    "    eq = '1{}2{}3{}4{}5{}6{}7{}8{}9'.format(*random.choices(pool, k=8))\n",
    "    value = eval(eq)\n",
    "    if value == 100:\n",
    "        print(eq)\n",
    "    "
   ]
  },
  {
   "cell_type": "code",
   "execution_count": 8,
   "metadata": {},
   "outputs": [
    {
     "data": {
      "text/plain": [
       "'1+23456789'"
      ]
     },
     "execution_count": 8,
     "metadata": {},
     "output_type": "execute_result"
    }
   ],
   "source": []
  },
  {
   "cell_type": "markdown",
   "metadata": {},
   "source": [
    "# 200"
   ]
  },
  {
   "cell_type": "code",
   "execution_count": 2,
   "metadata": {},
   "outputs": [
    {
     "name": "stdout",
     "output_type": "stream",
     "text": [
      "200\n",
      "100\n",
      "50\n",
      "25\n",
      "12\n",
      "6\n",
      "3\n"
     ]
    }
   ],
   "source": [
    "def plus_one_dollar(money):\n",
    "    return money + 1\n",
    "\n",
    "def double(money):\n",
    "    return money * 2\n",
    "\n",
    "money = 200\n",
    "\n",
    "while money > 1:\n",
    "    print(money)\n",
    "    money = money // 2"
   ]
  },
  {
   "cell_type": "markdown",
   "metadata": {},
   "source": []
  }
 ],
 "metadata": {
  "kernelspec": {
   "display_name": "Python 3.9.12 ('base')",
   "language": "python",
   "name": "python3"
  },
  "language_info": {
   "codemirror_mode": {
    "name": "ipython",
    "version": 3
   },
   "file_extension": ".py",
   "mimetype": "text/x-python",
   "name": "python",
   "nbconvert_exporter": "python",
   "pygments_lexer": "ipython3",
   "version": "3.9.12"
  },
  "orig_nbformat": 4,
  "vscode": {
   "interpreter": {
    "hash": "4bce346e72d632542e63f236f703185d9ef5a1bb2709446e53fb18f4279ee6ce"
   }
  }
 },
 "nbformat": 4,
 "nbformat_minor": 2
}
